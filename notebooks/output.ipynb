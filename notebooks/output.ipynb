{
 "cells": [
  {
   "cell_type": "markdown",
   "metadata": {
    "papermill": {
     "duration": 0.032107,
     "end_time": "2019-08-09T00:15:31.630756",
     "exception": false,
     "start_time": "2019-08-09T00:15:31.598649",
     "status": "completed"
    },
    "tags": []
   },
   "source": [
    "# Python Type Annotations, Dataclasses, and Serialization with Datafiles"
   ]
  },
  {
   "cell_type": "code",
   "execution_count": 1,
   "metadata": {
    "papermill": {
     "duration": 0.04638,
     "end_time": "2019-08-09T00:15:31.710670",
     "exception": false,
     "start_time": "2019-08-09T00:15:31.664290",
     "status": "completed"
    },
    "tags": []
   },
   "outputs": [
    {
     "data": {
      "text/plain": [
       "sys.version_info(major=3, minor=7, micro=2, releaselevel='final', serial=0)"
      ]
     },
     "execution_count": 1,
     "metadata": {},
     "output_type": "execute_result"
    }
   ],
   "source": [
    "import sys\n",
    "\n",
    "assert sys.version_info > (3, 7)\n",
    "\n",
    "sys.version_info"
   ]
  },
  {
   "cell_type": "code",
   "execution_count": 2,
   "metadata": {
    "papermill": {
     "duration": 0.053333,
     "end_time": "2019-08-09T00:15:31.802107",
     "exception": false,
     "start_time": "2019-08-09T00:15:31.748774",
     "status": "completed"
    },
    "tags": []
   },
   "outputs": [],
   "source": [
    "from dataclasses import dataclass\n",
    "\n",
    "@dataclass\n",
    "class InventoryItem:\n",
    "    \"\"\"Class for keeping track of an item in inventory.\"\"\"\n",
    "    name: str\n",
    "    unit_price: float\n",
    "    quantity_on_hand: int = 0\n",
    "\n",
    "    def total_cost(self) -> float:\n",
    "        return self.unit_price * self.quantity_on_hand"
   ]
  },
  {
   "cell_type": "code",
   "execution_count": 3,
   "metadata": {
    "papermill": {
     "duration": 0.059071,
     "end_time": "2019-08-09T00:15:31.905437",
     "exception": false,
     "start_time": "2019-08-09T00:15:31.846366",
     "status": "completed"
    },
    "tags": []
   },
   "outputs": [
    {
     "name": "stdout",
     "output_type": "stream",
     "text": [
      "TypeError(\"__init__() missing 2 required positional arguments: 'name' and 'unit_price'\")\n"
     ]
    }
   ],
   "source": [
    "try:\n",
    "    item = InventoryItem()\n",
    "except TypeError as e:\n",
    "    print(repr(e))"
   ]
  },
  {
   "cell_type": "code",
   "execution_count": 4,
   "metadata": {
    "papermill": {
     "duration": 0.03993,
     "end_time": "2019-08-09T00:15:31.986022",
     "exception": false,
     "start_time": "2019-08-09T00:15:31.946092",
     "status": "completed"
    },
    "tags": []
   },
   "outputs": [
    {
     "data": {
      "text/plain": [
       "InventoryItem(name='Widget', unit_price=1.99, quantity_on_hand=0)"
      ]
     },
     "execution_count": 4,
     "metadata": {},
     "output_type": "execute_result"
    }
   ],
   "source": [
    "item = InventoryItem(\"Widget\", 1.99)\n",
    "\n",
    "item"
   ]
  },
  {
   "cell_type": "code",
   "execution_count": 5,
   "metadata": {
    "papermill": {
     "duration": 0.041526,
     "end_time": "2019-08-09T00:15:32.062276",
     "exception": false,
     "start_time": "2019-08-09T00:15:32.020750",
     "status": "completed"
    },
    "tags": []
   },
   "outputs": [
    {
     "data": {
      "text/plain": [
       "'Widget'"
      ]
     },
     "execution_count": 5,
     "metadata": {},
     "output_type": "execute_result"
    }
   ],
   "source": [
    "item.name"
   ]
  },
  {
   "cell_type": "code",
   "execution_count": 6,
   "metadata": {
    "papermill": {
     "duration": 0.039977,
     "end_time": "2019-08-09T00:15:32.136941",
     "exception": false,
     "start_time": "2019-08-09T00:15:32.096964",
     "status": "completed"
    },
    "tags": []
   },
   "outputs": [
    {
     "data": {
      "text/plain": [
       "InventoryItem(name='Widget', unit_price=2.99, quantity_on_hand=0)"
      ]
     },
     "execution_count": 6,
     "metadata": {},
     "output_type": "execute_result"
    }
   ],
   "source": [
    "item.unit_price = 2.99\n",
    "\n",
    "item"
   ]
  },
  {
   "cell_type": "markdown",
   "metadata": {
    "papermill": {
     "duration": 0.035894,
     "end_time": "2019-08-09T00:15:32.208204",
     "exception": false,
     "start_time": "2019-08-09T00:15:32.172310",
     "status": "completed"
    },
    "tags": []
   },
   "source": [
    "# Type Annotations"
   ]
  },
  {
   "cell_type": "code",
   "execution_count": 7,
   "metadata": {
    "papermill": {
     "duration": 0.039902,
     "end_time": "2019-08-09T00:15:32.283048",
     "exception": false,
     "start_time": "2019-08-09T00:15:32.243146",
     "status": "completed"
    },
    "tags": []
   },
   "outputs": [],
   "source": [
    "assert sys.version_info > (3, 6)"
   ]
  },
  {
   "cell_type": "markdown",
   "metadata": {
    "papermill": {
     "duration": 0.035302,
     "end_time": "2019-08-09T00:15:32.356030",
     "exception": false,
     "start_time": "2019-08-09T00:15:32.320728",
     "status": "completed"
    },
    "tags": []
   },
   "source": [
    "### Argument Annotations"
   ]
  },
  {
   "cell_type": "code",
   "execution_count": 8,
   "metadata": {
    "papermill": {
     "duration": 0.041588,
     "end_time": "2019-08-09T00:15:32.432986",
     "exception": false,
     "start_time": "2019-08-09T00:15:32.391398",
     "status": "completed"
    },
    "tags": []
   },
   "outputs": [
    {
     "name": "stdout",
     "output_type": "stream",
     "text": [
      "Hello, Jace\n"
     ]
    }
   ],
   "source": [
    "def greet(name: str):\n",
    "    print(\"Hello, \" + name)\n",
    "    \n",
    "greet(\"Jace\")"
   ]
  },
  {
   "cell_type": "code",
   "execution_count": 9,
   "metadata": {
    "papermill": {
     "duration": 0.043284,
     "end_time": "2019-08-09T00:15:32.511220",
     "exception": false,
     "start_time": "2019-08-09T00:15:32.467936",
     "status": "completed"
    },
    "tags": []
   },
   "outputs": [
    {
     "data": {
      "text/plain": [
       "<function __main__.greet(name: str)>"
      ]
     },
     "execution_count": 9,
     "metadata": {},
     "output_type": "execute_result"
    }
   ],
   "source": [
    "greet"
   ]
  },
  {
   "cell_type": "code",
   "execution_count": 10,
   "metadata": {
    "papermill": {
     "duration": 0.041781,
     "end_time": "2019-08-09T00:15:32.589406",
     "exception": false,
     "start_time": "2019-08-09T00:15:32.547625",
     "status": "completed"
    },
    "tags": []
   },
   "outputs": [
    {
     "data": {
      "text/plain": [
       "{'name': str}"
      ]
     },
     "execution_count": 10,
     "metadata": {},
     "output_type": "execute_result"
    }
   ],
   "source": [
    "greet.__annotations__"
   ]
  },
  {
   "cell_type": "code",
   "execution_count": 11,
   "metadata": {
    "papermill": {
     "duration": 0.042025,
     "end_time": "2019-08-09T00:15:32.665652",
     "exception": false,
     "start_time": "2019-08-09T00:15:32.623627",
     "status": "completed"
    },
    "tags": []
   },
   "outputs": [
    {
     "data": {
      "text/plain": [
       "{'name': str}"
      ]
     },
     "execution_count": 11,
     "metadata": {},
     "output_type": "execute_result"
    }
   ],
   "source": [
    "import typing  # stdlib\n",
    "\n",
    "hints = typing.get_type_hints(greet)\n",
    "\n",
    "hints  # `dict` with real classes"
   ]
  },
  {
   "cell_type": "code",
   "execution_count": 12,
   "metadata": {
    "papermill": {
     "duration": 0.058664,
     "end_time": "2019-08-09T00:15:32.761293",
     "exception": false,
     "start_time": "2019-08-09T00:15:32.702629",
     "status": "completed"
    },
    "tags": []
   },
   "outputs": [
    {
     "data": {
      "text/plain": [
       "<Signature (name: str)>"
      ]
     },
     "execution_count": 12,
     "metadata": {},
     "output_type": "execute_result"
    }
   ],
   "source": [
    "import inspect  # stdlib\n",
    "\n",
    "signature = inspect.signature(greet)  \n",
    "\n",
    "signature  # `Signature` object"
   ]
  },
  {
   "cell_type": "code",
   "execution_count": 13,
   "metadata": {
    "papermill": {
     "duration": 0.045093,
     "end_time": "2019-08-09T00:15:32.844669",
     "exception": false,
     "start_time": "2019-08-09T00:15:32.799576",
     "status": "completed"
    },
    "tags": []
   },
   "outputs": [
    {
     "data": {
      "text/plain": [
       "mappingproxy({'name': <Parameter \"name: str\">})"
      ]
     },
     "execution_count": 13,
     "metadata": {},
     "output_type": "execute_result"
    }
   ],
   "source": [
    "signature.parameters"
   ]
  },
  {
   "cell_type": "code",
   "execution_count": 14,
   "metadata": {
    "papermill": {
     "duration": 0.04246,
     "end_time": "2019-08-09T00:15:32.922055",
     "exception": false,
     "start_time": "2019-08-09T00:15:32.879595",
     "status": "completed"
    },
    "tags": []
   },
   "outputs": [
    {
     "data": {
      "text/plain": [
       "<Parameter \"name: str\">"
      ]
     },
     "execution_count": 14,
     "metadata": {},
     "output_type": "execute_result"
    }
   ],
   "source": [
    "signature.parameters['name']"
   ]
  },
  {
   "cell_type": "code",
   "execution_count": 15,
   "metadata": {
    "papermill": {
     "duration": 0.043355,
     "end_time": "2019-08-09T00:15:32.999811",
     "exception": false,
     "start_time": "2019-08-09T00:15:32.956456",
     "status": "completed"
    },
    "tags": []
   },
   "outputs": [
    {
     "data": {
      "text/plain": [
       "<_ParameterKind.POSITIONAL_OR_KEYWORD: 1>"
      ]
     },
     "execution_count": 15,
     "metadata": {},
     "output_type": "execute_result"
    }
   ],
   "source": [
    "# POSITIONAL_OR_KEYWORD: greet(name)\n",
    "# KEYWORD_ONLY: greet(*, name)\n",
    "# VAR_POSITIONAL: greet(*names)\n",
    "# VAR_KEYWORD: greet(**names)\n",
    "\n",
    "signature.parameters['name'].kind"
   ]
  },
  {
   "cell_type": "code",
   "execution_count": 16,
   "metadata": {
    "papermill": {
     "duration": 0.04189,
     "end_time": "2019-08-09T00:15:33.076483",
     "exception": false,
     "start_time": "2019-08-09T00:15:33.034593",
     "status": "completed"
    },
    "tags": []
   },
   "outputs": [
    {
     "data": {
      "text/plain": [
       "str"
      ]
     },
     "execution_count": 16,
     "metadata": {},
     "output_type": "execute_result"
    }
   ],
   "source": [
    "signature.parameters['name'].annotation"
   ]
  },
  {
   "cell_type": "markdown",
   "metadata": {
    "papermill": {
     "duration": 0.035513,
     "end_time": "2019-08-09T00:15:33.146739",
     "exception": false,
     "start_time": "2019-08-09T00:15:33.111226",
     "status": "completed"
    },
    "tags": []
   },
   "source": [
    "### Return Annotations"
   ]
  },
  {
   "cell_type": "code",
   "execution_count": 17,
   "metadata": {
    "papermill": {
     "duration": 0.044275,
     "end_time": "2019-08-09T00:15:33.225670",
     "exception": false,
     "start_time": "2019-08-09T00:15:33.181395",
     "status": "completed"
    },
    "tags": []
   },
   "outputs": [
    {
     "data": {
      "text/plain": [
       "Decimal('5.29')"
      ]
     },
     "execution_count": 17,
     "metadata": {},
     "output_type": "execute_result"
    }
   ],
   "source": [
    "from decimal import Decimal\n",
    "\n",
    "def add_tax(subtotal, rate=0.06) -> Decimal:\n",
    "    cents = Decimal('0.01')\n",
    "    return Decimal(subtotal * (1 + rate)).quantize(cents)\n",
    "\n",
    "add_tax(4.99)"
   ]
  },
  {
   "cell_type": "code",
   "execution_count": 18,
   "metadata": {
    "papermill": {
     "duration": 0.044229,
     "end_time": "2019-08-09T00:15:33.332258",
     "exception": false,
     "start_time": "2019-08-09T00:15:33.288029",
     "status": "completed"
    },
    "tags": []
   },
   "outputs": [
    {
     "data": {
      "text/plain": [
       "decimal.Decimal"
      ]
     },
     "execution_count": 18,
     "metadata": {},
     "output_type": "execute_result"
    }
   ],
   "source": [
    "inspect.signature(add_tax).return_annotation"
   ]
  },
  {
   "cell_type": "markdown",
   "metadata": {
    "papermill": {
     "duration": 0.03811,
     "end_time": "2019-08-09T00:15:33.407964",
     "exception": false,
     "start_time": "2019-08-09T00:15:33.369854",
     "status": "completed"
    },
    "tags": []
   },
   "source": [
    "### Variable Annotations"
   ]
  },
  {
   "cell_type": "code",
   "execution_count": 19,
   "metadata": {
    "papermill": {
     "duration": 0.044784,
     "end_time": "2019-08-09T00:15:33.490890",
     "exception": false,
     "start_time": "2019-08-09T00:15:33.446106",
     "status": "completed"
    },
    "tags": []
   },
   "outputs": [],
   "source": [
    "class Person:\n",
    "    name: str"
   ]
  },
  {
   "cell_type": "code",
   "execution_count": 20,
   "metadata": {
    "papermill": {
     "duration": 0.043339,
     "end_time": "2019-08-09T00:15:33.571119",
     "exception": false,
     "start_time": "2019-08-09T00:15:33.527780",
     "status": "completed"
    },
    "tags": []
   },
   "outputs": [
    {
     "data": {
      "text/plain": [
       "{'name': str}"
      ]
     },
     "execution_count": 20,
     "metadata": {},
     "output_type": "execute_result"
    }
   ],
   "source": [
    "Person.__annotations__"
   ]
  },
  {
   "cell_type": "markdown",
   "metadata": {
    "papermill": {
     "duration": 0.036537,
     "end_time": "2019-08-09T00:15:33.643641",
     "exception": false,
     "start_time": "2019-08-09T00:15:33.607104",
     "status": "completed"
    },
    "tags": []
   },
   "source": [
    "### Optional Values"
   ]
  },
  {
   "cell_type": "code",
   "execution_count": 21,
   "metadata": {
    "papermill": {
     "duration": 0.040086,
     "end_time": "2019-08-09T00:15:33.718489",
     "exception": false,
     "start_time": "2019-08-09T00:15:33.678403",
     "status": "completed"
    },
    "tags": []
   },
   "outputs": [],
   "source": [
    "from typing import Optional\n",
    "\n",
    "def fill(password: Optional[str]):\n",
    "    if password is not None:\n",
    "        ...\n",
    "        \n",
    "fill(\"abc123\")\n",
    "fill(None)"
   ]
  },
  {
   "cell_type": "markdown",
   "metadata": {
    "papermill": {
     "duration": 0.035293,
     "end_time": "2019-08-09T00:15:33.789080",
     "exception": false,
     "start_time": "2019-08-09T00:15:33.753787",
     "status": "completed"
    },
    "tags": []
   },
   "source": [
    "### Homogeneous Lists "
   ]
  },
  {
   "cell_type": "code",
   "execution_count": 22,
   "metadata": {
    "papermill": {
     "duration": 0.040522,
     "end_time": "2019-08-09T00:15:33.865504",
     "exception": false,
     "start_time": "2019-08-09T00:15:33.824982",
     "status": "completed"
    },
    "tags": []
   },
   "outputs": [],
   "source": [
    "from typing import List\n",
    "\n",
    "def print_one_more_than(numbers: List[int]):\n",
    "    for number in numbers:\n",
    "        print(number + 1)"
   ]
  },
  {
   "cell_type": "markdown",
   "metadata": {
    "papermill": {
     "duration": 0.036672,
     "end_time": "2019-08-09T00:15:33.937456",
     "exception": false,
     "start_time": "2019-08-09T00:15:33.900784",
     "status": "completed"
    },
    "tags": []
   },
   "source": [
    "### Mixed Types"
   ]
  },
  {
   "cell_type": "code",
   "execution_count": 23,
   "metadata": {
    "papermill": {
     "duration": 0.04315,
     "end_time": "2019-08-09T00:15:34.017314",
     "exception": false,
     "start_time": "2019-08-09T00:15:33.974164",
     "status": "completed"
    },
    "tags": []
   },
   "outputs": [],
   "source": [
    "from typing import Union\n",
    "\n",
    "def print_items_or_keys(values: Union[list, dict]):\n",
    "    for value in values:\n",
    "        print(value)"
   ]
  },
  {
   "cell_type": "markdown",
   "metadata": {
    "papermill": {
     "duration": 0.037747,
     "end_time": "2019-08-09T00:15:34.092029",
     "exception": false,
     "start_time": "2019-08-09T00:15:34.054282",
     "status": "completed"
    },
    "tags": []
   },
   "source": [
    "### ⚠️ Circular Annotations"
   ]
  },
  {
   "cell_type": "code",
   "execution_count": 24,
   "metadata": {
    "papermill": {
     "duration": 0.041751,
     "end_time": "2019-08-09T00:15:34.169840",
     "exception": false,
     "start_time": "2019-08-09T00:15:34.128089",
     "status": "completed"
    },
    "tags": []
   },
   "outputs": [],
   "source": [
    "class Node:\n",
    "    \n",
    "    def connect_edge(edge: 'Edge'):\n",
    "        pass\n",
    "    \n",
    "\n",
    "class Edge:\n",
    "    def connect_node(node: Node):\n",
    "        pass"
   ]
  },
  {
   "cell_type": "code",
   "execution_count": 25,
   "metadata": {
    "papermill": {
     "duration": 0.04349,
     "end_time": "2019-08-09T00:15:34.249606",
     "exception": false,
     "start_time": "2019-08-09T00:15:34.206116",
     "status": "completed"
    },
    "tags": []
   },
   "outputs": [],
   "source": [
    "from __future__ import annotations  \n",
    "\n",
    "\n",
    "class Node:\n",
    "    \n",
    "    def connect_edge(edge: Edge):\n",
    "        pass\n",
    "     \n",
    "\n",
    "class Edge:\n",
    "    def connect_node(node: Node):\n",
    "        pass"
   ]
  },
  {
   "cell_type": "markdown",
   "metadata": {
    "papermill": {
     "duration": 0.03669,
     "end_time": "2019-08-09T00:15:34.322830",
     "exception": false,
     "start_time": "2019-08-09T00:15:34.286140",
     "status": "completed"
    },
    "tags": []
   },
   "source": [
    "# Type Checking (with mypy)"
   ]
  },
  {
   "cell_type": "code",
   "execution_count": 26,
   "metadata": {
    "papermill": {
     "duration": 0.041412,
     "end_time": "2019-08-09T00:15:34.399276",
     "exception": false,
     "start_time": "2019-08-09T00:15:34.357864",
     "status": "completed"
    },
    "tags": []
   },
   "outputs": [],
   "source": [
    "# pip install mypy==0.720"
   ]
  },
  {
   "cell_type": "code",
   "execution_count": 27,
   "metadata": {
    "papermill": {
     "duration": 0.044972,
     "end_time": "2019-08-09T00:15:34.480155",
     "exception": false,
     "start_time": "2019-08-09T00:15:34.435183",
     "status": "completed"
    },
    "tags": []
   },
   "outputs": [],
   "source": [
    "from mypy import api\n",
    "\n",
    "def mypy(filename):\n",
    "    \"\"\"Emulate `$ mypy <filename>` for notebooks.\"\"\"\n",
    "    message, _, _ = api.run([filename])\n",
    "    print(message or \"(no errors)\")"
   ]
  },
  {
   "cell_type": "code",
   "execution_count": 28,
   "metadata": {
    "papermill": {
     "duration": 0.043242,
     "end_time": "2019-08-09T00:15:34.558509",
     "exception": false,
     "start_time": "2019-08-09T00:15:34.515267",
     "status": "completed"
    },
    "tags": []
   },
   "outputs": [
    {
     "name": "stdout",
     "output_type": "stream",
     "text": [
      "Overwriting greet.py\n"
     ]
    }
   ],
   "source": [
    "%%writefile greet.py\n",
    "\n",
    "def greet(name: str):\n",
    "    print(\"Hello, \" + name)\n",
    "    \n",
    "greet(\"Jace\")"
   ]
  },
  {
   "cell_type": "code",
   "execution_count": 29,
   "metadata": {
    "papermill": {
     "duration": 0.103,
     "end_time": "2019-08-09T00:15:34.698852",
     "exception": false,
     "start_time": "2019-08-09T00:15:34.595852",
     "status": "completed"
    },
    "tags": []
   },
   "outputs": [
    {
     "name": "stdout",
     "output_type": "stream",
     "text": [
      "(no errors)\n"
     ]
    }
   ],
   "source": [
    "mypy('greet.py')"
   ]
  },
  {
   "cell_type": "code",
   "execution_count": 30,
   "metadata": {
    "papermill": {
     "duration": 0.043435,
     "end_time": "2019-08-09T00:15:34.779206",
     "exception": false,
     "start_time": "2019-08-09T00:15:34.735771",
     "status": "completed"
    },
    "tags": []
   },
   "outputs": [
    {
     "name": "stdout",
     "output_type": "stream",
     "text": [
      "Overwriting greet2.py\n"
     ]
    }
   ],
   "source": [
    "%%writefile greet2.py\n",
    "\n",
    "def greet(name: str):\n",
    "    print(\"Hello, \" + name)\n",
    "    \n",
    "greet(42)"
   ]
  },
  {
   "cell_type": "code",
   "execution_count": 31,
   "metadata": {
    "papermill": {
     "duration": 0.125609,
     "end_time": "2019-08-09T00:15:34.941423",
     "exception": false,
     "start_time": "2019-08-09T00:15:34.815814",
     "status": "completed"
    },
    "tags": []
   },
   "outputs": [
    {
     "name": "stdout",
     "output_type": "stream",
     "text": [
      "greet2.py:5: error: Argument 1 to \"greet\" has incompatible type \"int\"; expected \"str\"\n",
      "\n"
     ]
    }
   ],
   "source": [
    "mypy('greet2.py')"
   ]
  },
  {
   "cell_type": "code",
   "execution_count": 32,
   "metadata": {
    "papermill": {
     "duration": 0.044672,
     "end_time": "2019-08-09T00:15:35.022796",
     "exception": false,
     "start_time": "2019-08-09T00:15:34.978124",
     "status": "completed"
    },
    "tags": []
   },
   "outputs": [
    {
     "name": "stdout",
     "output_type": "stream",
     "text": [
      "Overwriting people.py\n"
     ]
    }
   ],
   "source": [
    "%%writefile people.py\n",
    "\n",
    "from typing import Iterable, List\n",
    "\n",
    "\n",
    "class Person:\n",
    "    \n",
    "    def __init__(self, name):\n",
    "        self.name = name\n",
    "\n",
    "        \n",
    "def get_people(*names: Iterable[str]) -> List[Person] :\n",
    "    return [Person(name) for name in names]\n",
    "    \n",
    "    \n",
    "people = get_people(\"Alice\", \"Bob\")\n",
    "\n",
    "people[1].age"
   ]
  },
  {
   "cell_type": "code",
   "execution_count": 33,
   "metadata": {
    "papermill": {
     "duration": 0.149957,
     "end_time": "2019-08-09T00:15:35.210799",
     "exception": false,
     "start_time": "2019-08-09T00:15:35.060842",
     "status": "completed"
    },
    "tags": []
   },
   "outputs": [
    {
     "name": "stdout",
     "output_type": "stream",
     "text": [
      "people.py:17: error: \"Person\" has no attribute \"age\"\n",
      "\n"
     ]
    }
   ],
   "source": [
    "mypy('people.py')"
   ]
  },
  {
   "cell_type": "markdown",
   "metadata": {
    "papermill": {
     "duration": 0.03808,
     "end_time": "2019-08-09T00:15:35.287156",
     "exception": false,
     "start_time": "2019-08-09T00:15:35.249076",
     "status": "completed"
    },
    "tags": []
   },
   "source": [
    "# Dataclasses"
   ]
  },
  {
   "cell_type": "code",
   "execution_count": 34,
   "metadata": {
    "papermill": {
     "duration": 0.043297,
     "end_time": "2019-08-09T00:15:35.367318",
     "exception": false,
     "start_time": "2019-08-09T00:15:35.324021",
     "status": "completed"
    },
    "tags": []
   },
   "outputs": [],
   "source": [
    "from dataclasses import dataclass\n",
    "\n",
    "@dataclass\n",
    "class InventoryItem:\n",
    "    \"\"\"Class for keeping track of an item in inventory.\"\"\"\n",
    "    name: str\n",
    "    unit_price: float\n",
    "    quantity_on_hand: int = 0\n",
    "\n",
    "    def total_cost(self) -> float:\n",
    "        return self.unit_price * self.quantity_on_hand"
   ]
  },
  {
   "cell_type": "markdown",
   "metadata": {
    "papermill": {
     "duration": 0.037615,
     "end_time": "2019-08-09T00:15:35.442067",
     "exception": false,
     "start_time": "2019-08-09T00:15:35.404452",
     "status": "completed"
    },
    "tags": []
   },
   "source": [
    "### `__init__`"
   ]
  },
  {
   "cell_type": "code",
   "execution_count": 35,
   "metadata": {
    "papermill": {
     "duration": 0.043914,
     "end_time": "2019-08-09T00:15:35.522943",
     "exception": false,
     "start_time": "2019-08-09T00:15:35.479029",
     "status": "completed"
    },
    "tags": []
   },
   "outputs": [
    {
     "data": {
      "text/plain": [
       "InventoryItem(name='Widget A', unit_price=1.99, quantity_on_hand=0)"
      ]
     },
     "execution_count": 35,
     "metadata": {},
     "output_type": "execute_result"
    }
   ],
   "source": [
    "InventoryItem(\"Widget A\", 1.99)"
   ]
  },
  {
   "cell_type": "code",
   "execution_count": 36,
   "metadata": {
    "papermill": {
     "duration": 0.045323,
     "end_time": "2019-08-09T00:15:35.605737",
     "exception": false,
     "start_time": "2019-08-09T00:15:35.560414",
     "status": "completed"
    },
    "tags": []
   },
   "outputs": [
    {
     "data": {
      "text/plain": [
       "InventoryItem(name='Widge B', unit_price=1.99, quantity_on_hand=300)"
      ]
     },
     "execution_count": 36,
     "metadata": {},
     "output_type": "execute_result"
    }
   ],
   "source": [
    "InventoryItem(\"Widge B\", 1.99, 300)"
   ]
  },
  {
   "cell_type": "code",
   "execution_count": 37,
   "metadata": {
    "papermill": {
     "duration": 0.045421,
     "end_time": "2019-08-09T00:15:35.689090",
     "exception": false,
     "start_time": "2019-08-09T00:15:35.643669",
     "status": "completed"
    },
    "tags": []
   },
   "outputs": [
    {
     "data": {
      "text/plain": [
       "InventoryItem(name='Widget C', unit_price=1.99, quantity_on_hand=400)"
      ]
     },
     "execution_count": 37,
     "metadata": {},
     "output_type": "execute_result"
    }
   ],
   "source": [
    "InventoryItem(\"Widget C\", 1.99, quantity_on_hand=400)"
   ]
  },
  {
   "cell_type": "code",
   "execution_count": 38,
   "metadata": {
    "papermill": {
     "duration": 0.047377,
     "end_time": "2019-08-09T00:15:35.776257",
     "exception": false,
     "start_time": "2019-08-09T00:15:35.728880",
     "status": "completed"
    },
    "tags": []
   },
   "outputs": [
    {
     "data": {
      "text/plain": [
       "InventoryItem(name='Widget D', unit_price=1.99, quantity_on_hand=500)"
      ]
     },
     "execution_count": 38,
     "metadata": {},
     "output_type": "execute_result"
    }
   ],
   "source": [
    "InventoryItem(name=\"Widget D\", unit_price=1.99, quantity_on_hand=500)"
   ]
  },
  {
   "cell_type": "code",
   "execution_count": 39,
   "metadata": {
    "papermill": {
     "duration": 0.046643,
     "end_time": "2019-08-09T00:15:35.862248",
     "exception": false,
     "start_time": "2019-08-09T00:15:35.815605",
     "status": "completed"
    },
    "tags": []
   },
   "outputs": [
    {
     "name": "stdout",
     "output_type": "stream",
     "text": [
      "TypeError(\"__init__() missing 1 required positional argument: 'unit_price'\")\n"
     ]
    }
   ],
   "source": [
    "try:\n",
    "    InventoryItem(name=\"Widget E\")\n",
    "except TypeError as e:\n",
    "    print(repr(e))"
   ]
  },
  {
   "cell_type": "markdown",
   "metadata": {
    "papermill": {
     "duration": 0.038681,
     "end_time": "2019-08-09T00:15:35.938798",
     "exception": false,
     "start_time": "2019-08-09T00:15:35.900117",
     "status": "completed"
    },
    "tags": []
   },
   "source": [
    "### `__repr__`"
   ]
  },
  {
   "cell_type": "code",
   "execution_count": 40,
   "metadata": {
    "papermill": {
     "duration": 0.045261,
     "end_time": "2019-08-09T00:15:36.021576",
     "exception": false,
     "start_time": "2019-08-09T00:15:35.976315",
     "status": "completed"
    },
    "tags": []
   },
   "outputs": [
    {
     "data": {
      "text/plain": [
       "\"InventoryItem(name='Widget', unit_price=1.99, quantity_on_hand=0)\""
      ]
     },
     "execution_count": 40,
     "metadata": {},
     "output_type": "execute_result"
    }
   ],
   "source": [
    "item = InventoryItem(\"Widget\", 1.99)\n",
    "\n",
    "repr(item)"
   ]
  },
  {
   "cell_type": "code",
   "execution_count": 41,
   "metadata": {
    "papermill": {
     "duration": 0.048845,
     "end_time": "2019-08-09T00:15:36.110941",
     "exception": false,
     "start_time": "2019-08-09T00:15:36.062096",
     "status": "completed"
    },
    "tags": []
   },
   "outputs": [
    {
     "data": {
      "text/plain": [
       "InventoryItem(name='Widget', unit_price=1.99, quantity_on_hand=0)"
      ]
     },
     "execution_count": 41,
     "metadata": {},
     "output_type": "execute_result"
    }
   ],
   "source": [
    "eval(\"InventoryItem(name='Widget', unit_price=1.99, quantity_on_hand=0)\")"
   ]
  },
  {
   "cell_type": "markdown",
   "metadata": {
    "papermill": {
     "duration": 0.039355,
     "end_time": "2019-08-09T00:15:36.189163",
     "exception": false,
     "start_time": "2019-08-09T00:15:36.149808",
     "status": "completed"
    },
    "tags": []
   },
   "source": [
    "### `__eq__`"
   ]
  },
  {
   "cell_type": "code",
   "execution_count": 42,
   "metadata": {
    "papermill": {
     "duration": 0.046301,
     "end_time": "2019-08-09T00:15:36.275115",
     "exception": false,
     "start_time": "2019-08-09T00:15:36.228814",
     "status": "completed"
    },
    "tags": []
   },
   "outputs": [],
   "source": [
    "item_a = InventoryItem(\"Widget A\", 1.99)\n",
    "item_b = InventoryItem(\"Widget B\", 1.99)\n",
    "item_x = InventoryItem(\"Widget A\", 1.99, quantity_on_hand=0)"
   ]
  },
  {
   "cell_type": "code",
   "execution_count": 43,
   "metadata": {
    "papermill": {
     "duration": 0.044822,
     "end_time": "2019-08-09T00:15:36.358339",
     "exception": false,
     "start_time": "2019-08-09T00:15:36.313517",
     "status": "completed"
    },
    "tags": []
   },
   "outputs": [
    {
     "data": {
      "text/plain": [
       "False"
      ]
     },
     "execution_count": 43,
     "metadata": {},
     "output_type": "execute_result"
    }
   ],
   "source": [
    "item_a == item_b"
   ]
  },
  {
   "cell_type": "code",
   "execution_count": 44,
   "metadata": {
    "papermill": {
     "duration": 0.045913,
     "end_time": "2019-08-09T00:15:36.441464",
     "exception": false,
     "start_time": "2019-08-09T00:15:36.395551",
     "status": "completed"
    },
    "tags": []
   },
   "outputs": [
    {
     "data": {
      "text/plain": [
       "True"
      ]
     },
     "execution_count": 44,
     "metadata": {},
     "output_type": "execute_result"
    }
   ],
   "source": [
    "item_a == item_x"
   ]
  },
  {
   "cell_type": "markdown",
   "metadata": {
    "papermill": {
     "duration": 0.039569,
     "end_time": "2019-08-09T00:15:36.520164",
     "exception": false,
     "start_time": "2019-08-09T00:15:36.480595",
     "status": "completed"
    },
    "tags": []
   },
   "source": [
    "### Ordered Dataclasses"
   ]
  },
  {
   "cell_type": "code",
   "execution_count": 45,
   "metadata": {
    "papermill": {
     "duration": 0.044575,
     "end_time": "2019-08-09T00:15:36.603510",
     "exception": false,
     "start_time": "2019-08-09T00:15:36.558935",
     "status": "completed"
    },
    "tags": []
   },
   "outputs": [],
   "source": [
    "@dataclass(order=True)\n",
    "class Person:\n",
    "    last_name: str\n",
    "    first_name: str\n",
    "        \n",
    "    def __str__(self):\n",
    "        return f'{self.first_name} {self.last_name}'"
   ]
  },
  {
   "cell_type": "code",
   "execution_count": 46,
   "metadata": {
    "papermill": {
     "duration": 0.044041,
     "end_time": "2019-08-09T00:15:36.685388",
     "exception": false,
     "start_time": "2019-08-09T00:15:36.641347",
     "status": "completed"
    },
    "tags": []
   },
   "outputs": [
    {
     "name": "stdout",
     "output_type": "stream",
     "text": [
      "Alice Smith\n",
      "Bob Smith\n",
      "Carl Davidson\n"
     ]
    }
   ],
   "source": [
    "people = [\n",
    "    Person(first_name=\"Alice\", last_name=\"Smith\"),\n",
    "    Person(first_name=\"Bob\", last_name=\"Smith\"),\n",
    "    Person(first_name=\"Carl\", last_name=\"Davidson\"),\n",
    "]\n",
    "\n",
    "for person in people:\n",
    "    print(person)"
   ]
  },
  {
   "cell_type": "code",
   "execution_count": 47,
   "metadata": {
    "papermill": {
     "duration": 0.045051,
     "end_time": "2019-08-09T00:15:36.768762",
     "exception": false,
     "start_time": "2019-08-09T00:15:36.723711",
     "status": "completed"
    },
    "tags": []
   },
   "outputs": [],
   "source": [
    "people.sort()"
   ]
  },
  {
   "cell_type": "code",
   "execution_count": 48,
   "metadata": {
    "papermill": {
     "duration": 0.045253,
     "end_time": "2019-08-09T00:15:36.852797",
     "exception": false,
     "start_time": "2019-08-09T00:15:36.807544",
     "status": "completed"
    },
    "tags": []
   },
   "outputs": [
    {
     "name": "stdout",
     "output_type": "stream",
     "text": [
      "Carl Davidson\n",
      "Alice Smith\n",
      "Bob Smith\n"
     ]
    }
   ],
   "source": [
    "for person in people:\n",
    "    print(person)"
   ]
  },
  {
   "cell_type": "markdown",
   "metadata": {
    "papermill": {
     "duration": 0.041646,
     "end_time": "2019-08-09T00:15:36.933058",
     "exception": false,
     "start_time": "2019-08-09T00:15:36.891412",
     "status": "completed"
    },
    "tags": []
   },
   "source": [
    "### Frozen Dataclasses"
   ]
  },
  {
   "cell_type": "code",
   "execution_count": 49,
   "metadata": {
    "papermill": {
     "duration": 0.049347,
     "end_time": "2019-08-09T00:15:37.025224",
     "exception": false,
     "start_time": "2019-08-09T00:15:36.975877",
     "status": "completed"
    },
    "tags": []
   },
   "outputs": [],
   "source": [
    "@dataclass(frozen=True)\n",
    "class Badge:\n",
    "    number: int\n",
    "        \n",
    "badges = [Badge(1001), Badge(1002), Badge(1003)]"
   ]
  },
  {
   "cell_type": "code",
   "execution_count": 50,
   "metadata": {
    "papermill": {
     "duration": 0.046717,
     "end_time": "2019-08-09T00:15:37.110368",
     "exception": false,
     "start_time": "2019-08-09T00:15:37.063651",
     "status": "completed"
    },
    "tags": []
   },
   "outputs": [
    {
     "name": "stdout",
     "output_type": "stream",
     "text": [
      "FrozenInstanceError(\"cannot assign to field 'number'\")\n"
     ]
    }
   ],
   "source": [
    "try:\n",
    "    badges[1].number = 1004\n",
    "except AttributeError as e:\n",
    "    print(repr(e))"
   ]
  },
  {
   "cell_type": "markdown",
   "metadata": {
    "papermill": {
     "duration": 0.037807,
     "end_time": "2019-08-09T00:15:37.186369",
     "exception": false,
     "start_time": "2019-08-09T00:15:37.148562",
     "status": "completed"
    },
    "tags": []
   },
   "source": [
    "### Field Customization "
   ]
  },
  {
   "cell_type": "code",
   "execution_count": 51,
   "metadata": {
    "papermill": {
     "duration": 0.046414,
     "end_time": "2019-08-09T00:15:37.272382",
     "exception": false,
     "start_time": "2019-08-09T00:15:37.225968",
     "status": "completed"
    },
    "tags": []
   },
   "outputs": [],
   "source": [
    "from dataclasses import field\n",
    "\n",
    "@dataclass(order=True)\n",
    "class Person:\n",
    "    name: str = field(compare=False)\n",
    "    age: int\n",
    "    \n",
    "    def __str__(self):\n",
    "        return f'{self.name} ({self.age})'"
   ]
  },
  {
   "cell_type": "code",
   "execution_count": 52,
   "metadata": {
    "papermill": {
     "duration": 0.046104,
     "end_time": "2019-08-09T00:15:37.358038",
     "exception": false,
     "start_time": "2019-08-09T00:15:37.311934",
     "status": "completed"
    },
    "tags": []
   },
   "outputs": [
    {
     "name": "stdout",
     "output_type": "stream",
     "text": [
      "Alice Smith (30)\n",
      "Bob Smith (25)\n",
      "Carl Davidson (41)\n"
     ]
    }
   ],
   "source": [
    "people = [\n",
    "    Person(\"Alice Smith\", 30),\n",
    "    Person(\"Bob Smith\", 25),\n",
    "    Person(\"Carl Davidson\", 41),\n",
    "]\n",
    "\n",
    "for person in people:\n",
    "    print(person)"
   ]
  },
  {
   "cell_type": "code",
   "execution_count": 53,
   "metadata": {
    "papermill": {
     "duration": 0.04412,
     "end_time": "2019-08-09T00:15:37.440749",
     "exception": false,
     "start_time": "2019-08-09T00:15:37.396629",
     "status": "completed"
    },
    "tags": []
   },
   "outputs": [],
   "source": [
    "people.sort()"
   ]
  },
  {
   "cell_type": "code",
   "execution_count": 54,
   "metadata": {
    "papermill": {
     "duration": 0.046649,
     "end_time": "2019-08-09T00:15:37.527555",
     "exception": false,
     "start_time": "2019-08-09T00:15:37.480906",
     "status": "completed"
    },
    "tags": []
   },
   "outputs": [
    {
     "name": "stdout",
     "output_type": "stream",
     "text": [
      "Bob Smith (25)\n",
      "Alice Smith (30)\n",
      "Carl Davidson (41)\n"
     ]
    }
   ],
   "source": [
    "for person in people:\n",
    "    print(person)"
   ]
  },
  {
   "cell_type": "markdown",
   "metadata": {
    "papermill": {
     "duration": 0.04067,
     "end_time": "2019-08-09T00:15:37.607273",
     "exception": false,
     "start_time": "2019-08-09T00:15:37.566603",
     "status": "completed"
    },
    "tags": []
   },
   "source": [
    "### ⚠️ Custom `__init__`"
   ]
  },
  {
   "cell_type": "code",
   "execution_count": 55,
   "metadata": {
    "papermill": {
     "duration": 0.04506,
     "end_time": "2019-08-09T00:15:37.691278",
     "exception": false,
     "start_time": "2019-08-09T00:15:37.646218",
     "status": "completed"
    },
    "tags": []
   },
   "outputs": [],
   "source": [
    "@dataclass\n",
    "class Bill:\n",
    "    subtotal: float\n",
    "    tip: float = 0.0\n",
    "    \n",
    "    def __post_init__(self):\n",
    "        self.total = self.subtotal + self.tip"
   ]
  },
  {
   "cell_type": "code",
   "execution_count": 56,
   "metadata": {
    "papermill": {
     "duration": 0.04915,
     "end_time": "2019-08-09T00:15:37.780497",
     "exception": false,
     "start_time": "2019-08-09T00:15:37.731347",
     "status": "completed"
    },
    "tags": []
   },
   "outputs": [
    {
     "data": {
      "text/plain": [
       "Bill(subtotal=12.99, tip=3.0)"
      ]
     },
     "execution_count": 56,
     "metadata": {},
     "output_type": "execute_result"
    }
   ],
   "source": [
    "bill = Bill(12.99, tip=3.00)\n",
    "\n",
    "bill"
   ]
  },
  {
   "cell_type": "code",
   "execution_count": 57,
   "metadata": {
    "papermill": {
     "duration": 0.045271,
     "end_time": "2019-08-09T00:15:37.865096",
     "exception": false,
     "start_time": "2019-08-09T00:15:37.819825",
     "status": "completed"
    },
    "tags": []
   },
   "outputs": [
    {
     "data": {
      "text/plain": [
       "15.99"
      ]
     },
     "execution_count": 57,
     "metadata": {},
     "output_type": "execute_result"
    }
   ],
   "source": [
    "bill.total"
   ]
  },
  {
   "cell_type": "markdown",
   "metadata": {
    "papermill": {
     "duration": 0.039982,
     "end_time": "2019-08-09T00:15:37.944021",
     "exception": false,
     "start_time": "2019-08-09T00:15:37.904039",
     "status": "completed"
    },
    "tags": []
   },
   "source": [
    "### ⚠️ Mutable Default Values"
   ]
  },
  {
   "cell_type": "code",
   "execution_count": 58,
   "metadata": {
    "papermill": {
     "duration": 0.047814,
     "end_time": "2019-08-09T00:15:38.030407",
     "exception": false,
     "start_time": "2019-08-09T00:15:37.982593",
     "status": "completed"
    },
    "tags": []
   },
   "outputs": [
    {
     "name": "stdout",
     "output_type": "stream",
     "text": [
      "ValueError(\"mutable default <class 'list'> for field members is not allowed: use default_factory\")\n"
     ]
    }
   ],
   "source": [
    "from typing import List\n",
    "\n",
    "try:\n",
    "    \n",
    "    @dataclass\n",
    "    class Group:\n",
    "        members: List[Person] = []\n",
    "            \n",
    "except ValueError as e:\n",
    "    print(repr(e))"
   ]
  },
  {
   "cell_type": "code",
   "execution_count": 59,
   "metadata": {
    "papermill": {
     "duration": 0.045971,
     "end_time": "2019-08-09T00:15:38.115591",
     "exception": false,
     "start_time": "2019-08-09T00:15:38.069620",
     "status": "completed"
    },
    "tags": []
   },
   "outputs": [],
   "source": [
    "from dataclasses import field\n",
    "\n",
    "@dataclass\n",
    "class Group:\n",
    "    members: List[Person] = field(default_factory=list)"
   ]
  },
  {
   "cell_type": "code",
   "execution_count": 60,
   "metadata": {
    "papermill": {
     "duration": 0.046671,
     "end_time": "2019-08-09T00:15:38.201603",
     "exception": false,
     "start_time": "2019-08-09T00:15:38.154932",
     "status": "completed"
    },
    "tags": []
   },
   "outputs": [
    {
     "data": {
      "text/plain": [
       "Group(members=[Person(name='Bob Smith', age=25)])"
      ]
     },
     "execution_count": 60,
     "metadata": {},
     "output_type": "execute_result"
    }
   ],
   "source": [
    "group = Group()\n",
    "\n",
    "group.members.append(people[0])\n",
    "\n",
    "group"
   ]
  },
  {
   "cell_type": "markdown",
   "metadata": {
    "papermill": {
     "duration": 0.041265,
     "end_time": "2019-08-09T00:15:38.283439",
     "exception": false,
     "start_time": "2019-08-09T00:15:38.242174",
     "status": "completed"
    },
    "tags": []
   },
   "source": [
    "### Utilities"
   ]
  },
  {
   "cell_type": "code",
   "execution_count": 61,
   "metadata": {
    "papermill": {
     "duration": 0.047557,
     "end_time": "2019-08-09T00:15:38.371815",
     "exception": false,
     "start_time": "2019-08-09T00:15:38.324258",
     "status": "completed"
    },
    "tags": []
   },
   "outputs": [
    {
     "data": {
      "text/plain": [
       "True"
      ]
     },
     "execution_count": 61,
     "metadata": {},
     "output_type": "execute_result"
    }
   ],
   "source": [
    "import dataclasses\n",
    "\n",
    "dataclasses.is_dataclass(item)"
   ]
  },
  {
   "cell_type": "code",
   "execution_count": 62,
   "metadata": {
    "papermill": {
     "duration": 0.048348,
     "end_time": "2019-08-09T00:15:38.459753",
     "exception": false,
     "start_time": "2019-08-09T00:15:38.411405",
     "status": "completed"
    },
    "tags": []
   },
   "outputs": [
    {
     "name": "stdout",
     "output_type": "stream",
     "text": [
      "Field(name='name',type='str',default=<dataclasses._MISSING_TYPE object at 0x10c3eee10>,default_factory=<dataclasses._MISSING_TYPE object at 0x10c3eee10>,init=True,repr=True,hash=None,compare=True,metadata=mappingproxy({}),_field_type=_FIELD)\n",
      "\n",
      "Field(name='unit_price',type='float',default=<dataclasses._MISSING_TYPE object at 0x10c3eee10>,default_factory=<dataclasses._MISSING_TYPE object at 0x10c3eee10>,init=True,repr=True,hash=None,compare=True,metadata=mappingproxy({}),_field_type=_FIELD)\n",
      "\n",
      "Field(name='quantity_on_hand',type='int',default=0,default_factory=<dataclasses._MISSING_TYPE object at 0x10c3eee10>,init=True,repr=True,hash=None,compare=True,metadata=mappingproxy({}),_field_type=_FIELD)\n",
      "\n"
     ]
    }
   ],
   "source": [
    "for field in dataclasses.fields(item):\n",
    "    print(field, end='\\n\\n')"
   ]
  },
  {
   "cell_type": "code",
   "execution_count": 63,
   "metadata": {
    "papermill": {
     "duration": 0.048091,
     "end_time": "2019-08-09T00:15:38.547782",
     "exception": false,
     "start_time": "2019-08-09T00:15:38.499691",
     "status": "completed"
    },
    "tags": []
   },
   "outputs": [
    {
     "data": {
      "text/plain": [
       "{'name': 'Widget', 'unit_price': 1.99, 'quantity_on_hand': 0}"
      ]
     },
     "execution_count": 63,
     "metadata": {},
     "output_type": "execute_result"
    }
   ],
   "source": [
    "dataclasses.asdict(item)"
   ]
  },
  {
   "cell_type": "code",
   "execution_count": 64,
   "metadata": {
    "papermill": {
     "duration": 0.048354,
     "end_time": "2019-08-09T00:15:38.638581",
     "exception": false,
     "start_time": "2019-08-09T00:15:38.590227",
     "status": "completed"
    },
    "tags": []
   },
   "outputs": [
    {
     "data": {
      "text/plain": [
       "('Widget', 1.99, 0)"
      ]
     },
     "execution_count": 64,
     "metadata": {},
     "output_type": "execute_result"
    }
   ],
   "source": [
    "dataclasses.astuple(item)"
   ]
  },
  {
   "cell_type": "markdown",
   "metadata": {
    "papermill": {
     "duration": 0.040341,
     "end_time": "2019-08-09T00:15:38.720462",
     "exception": false,
     "start_time": "2019-08-09T00:15:38.680121",
     "status": "completed"
    },
    "tags": []
   },
   "source": [
    "# Serialization (with datafiles)"
   ]
  },
  {
   "cell_type": "code",
   "execution_count": 65,
   "metadata": {
    "papermill": {
     "duration": 0.046814,
     "end_time": "2019-08-09T00:15:38.808908",
     "exception": false,
     "start_time": "2019-08-09T00:15:38.762094",
     "status": "completed"
    },
    "tags": []
   },
   "outputs": [],
   "source": [
    "# pip install datafiles==0.4"
   ]
  },
  {
   "cell_type": "code",
   "execution_count": 66,
   "metadata": {
    "papermill": {
     "duration": 0.054223,
     "end_time": "2019-08-09T00:15:38.904137",
     "exception": false,
     "start_time": "2019-08-09T00:15:38.849914",
     "status": "completed"
    },
    "tags": []
   },
   "outputs": [],
   "source": [
    "%%sh\n",
    "\n",
    "rm -rf items"
   ]
  },
  {
   "cell_type": "code",
   "execution_count": 67,
   "metadata": {
    "papermill": {
     "duration": 0.070664,
     "end_time": "2019-08-09T00:15:39.015366",
     "exception": false,
     "start_time": "2019-08-09T00:15:38.944702",
     "status": "completed"
    },
    "tags": []
   },
   "outputs": [],
   "source": [
    "from datafiles import datafile\n",
    "\n",
    "@datafile('items/{self.name}.yml')\n",
    "class MyInventoryItem:\n",
    "    \"\"\"Class for keeping track of an item in inventory.\"\"\"\n",
    "    name: str\n",
    "    unit_price: float\n",
    "    quantity_on_hand: int = 0\n",
    "\n",
    "    def total_cost(self) -> float:\n",
    "        return self.unit_price * self.quantity_on_hand"
   ]
  },
  {
   "cell_type": "code",
   "execution_count": 68,
   "metadata": {
    "papermill": {
     "duration": 0.049216,
     "end_time": "2019-08-09T00:15:39.106202",
     "exception": false,
     "start_time": "2019-08-09T00:15:39.056986",
     "status": "completed"
    },
    "tags": []
   },
   "outputs": [
    {
     "name": "stderr",
     "output_type": "stream",
     "text": [
      "INFO: datafiles.mapper: Saving 'MyInventoryItem' object to 'items/widget.yml'\n"
     ]
    }
   ],
   "source": [
    "item = MyInventoryItem(\"widget\", 1.99)"
   ]
  },
  {
   "cell_type": "code",
   "execution_count": 69,
   "metadata": {
    "papermill": {
     "duration": 0.057494,
     "end_time": "2019-08-09T00:15:39.205403",
     "exception": false,
     "start_time": "2019-08-09T00:15:39.147909",
     "status": "completed"
    },
    "tags": []
   },
   "outputs": [
    {
     "name": "stdout",
     "output_type": "stream",
     "text": [
      "unit_price: 1.99\n"
     ]
    }
   ],
   "source": [
    "%%sh\n",
    "\n",
    "cat items/widget.yml"
   ]
  },
  {
   "cell_type": "code",
   "execution_count": 70,
   "metadata": {
    "papermill": {
     "duration": 0.053259,
     "end_time": "2019-08-09T00:15:39.300102",
     "exception": false,
     "start_time": "2019-08-09T00:15:39.246843",
     "status": "completed"
    },
    "tags": []
   },
   "outputs": [
    {
     "name": "stderr",
     "output_type": "stream",
     "text": [
      "INFO: datafiles.mapper: Saving 'MyInventoryItem' object to 'items/widget.yml'\n"
     ]
    }
   ],
   "source": [
    "item.quantity_on_hand += 100"
   ]
  },
  {
   "cell_type": "code",
   "execution_count": 71,
   "metadata": {
    "papermill": {
     "duration": 0.062892,
     "end_time": "2019-08-09T00:15:39.407253",
     "exception": false,
     "start_time": "2019-08-09T00:15:39.344361",
     "status": "completed"
    },
    "tags": []
   },
   "outputs": [
    {
     "name": "stdout",
     "output_type": "stream",
     "text": [
      "unit_price: 1.99\n",
      "quantity_on_hand: 100\n"
     ]
    }
   ],
   "source": [
    "%%sh\n",
    "\n",
    "cat items/widget.yml"
   ]
  },
  {
   "cell_type": "code",
   "execution_count": 72,
   "metadata": {
    "papermill": {
     "duration": 0.051953,
     "end_time": "2019-08-09T00:15:39.503545",
     "exception": false,
     "start_time": "2019-08-09T00:15:39.451592",
     "status": "completed"
    },
    "tags": []
   },
   "outputs": [
    {
     "name": "stdout",
     "output_type": "stream",
     "text": [
      "Overwriting items/widget.yml\n"
     ]
    }
   ],
   "source": [
    "%%writefile items/widget.yml\n",
    "\n",
    "unit_price: 2.5  # was 3.0\n",
    "quantity_on_hand: 100"
   ]
  },
  {
   "cell_type": "code",
   "execution_count": 73,
   "metadata": {
    "papermill": {
     "duration": 0.06286,
     "end_time": "2019-08-09T00:15:39.615942",
     "exception": false,
     "start_time": "2019-08-09T00:15:39.553082",
     "status": "completed"
    },
    "tags": []
   },
   "outputs": [
    {
     "name": "stderr",
     "output_type": "stream",
     "text": [
      "INFO: datafiles.mapper: Loading 'MyInventoryItem' object from 'items/widget.yml'\n"
     ]
    },
    {
     "data": {
      "text/plain": [
       "2.5"
      ]
     },
     "execution_count": 73,
     "metadata": {},
     "output_type": "execute_result"
    }
   ],
   "source": [
    "item.unit_price"
   ]
  },
  {
   "cell_type": "code",
   "execution_count": 74,
   "metadata": {
    "papermill": {
     "duration": 0.055113,
     "end_time": "2019-08-09T00:15:39.716318",
     "exception": false,
     "start_time": "2019-08-09T00:15:39.661205",
     "status": "completed"
    },
    "tags": []
   },
   "outputs": [
    {
     "name": "stderr",
     "output_type": "stream",
     "text": [
      "INFO: datafiles.mapper: Loading 'MyInventoryItem' object from 'items/widget.yml'\n"
     ]
    },
    {
     "data": {
      "text/plain": [
       "MyInventoryItem(name='widget', unit_price=2.5, quantity_on_hand=100)"
      ]
     },
     "execution_count": 74,
     "metadata": {},
     "output_type": "execute_result"
    }
   ],
   "source": [
    "from datafiles import Missing\n",
    "\n",
    "item = MyInventoryItem(\"widget\", Missing)\n",
    "\n",
    "assert item.unit_price == 2.5\n",
    "assert item.quantity_on_hand == 100\n",
    "\n",
    "item"
   ]
  }
 ],
 "metadata": {
  "kernelspec": {
   "display_name": "Python 3",
   "language": "python",
   "name": "python3"
  },
  "language_info": {
   "codemirror_mode": {
    "name": "ipython",
    "version": 3
   },
   "file_extension": ".py",
   "mimetype": "text/x-python",
   "name": "python",
   "nbconvert_exporter": "python",
   "pygments_lexer": "ipython3",
   "version": "3.7.2"
  },
  "papermill": {
   "duration": 9.098323,
   "end_time": "2019-08-09T00:15:40.069307",
   "environment_variables": {},
   "exception": null,
   "input_path": "input.ipynb",
   "output_path": "output.ipynb",
   "parameters": {},
   "start_time": "2019-08-09T00:15:30.970984",
   "version": "1.0.1"
  }
 },
 "nbformat": 4,
 "nbformat_minor": 2
}